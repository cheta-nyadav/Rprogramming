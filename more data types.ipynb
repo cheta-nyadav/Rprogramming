{
 "cells": [
  {
   "cell_type": "markdown",
   "id": "b1cba35c",
   "metadata": {},
   "source": [
    "## Data Frames\n",
    "A data frame is a collection of columns–similar to a spreadsheet or SQL table. Each column has a name at the top that represents a variable, and includes one observation per row.<br>\n",
    "Data frames helps to summarize data and organize it in a format that is easy to read.\n",
    "<b> creating a data frame </b>? is done by <b>data.frame()</b> function, it takes vectors as inputs separated by comma and having the column name specified."
   ]
  },
  {
   "cell_type": "code",
   "execution_count": 5,
   "id": "f1d4e2cd",
   "metadata": {},
   "outputs": [
    {
     "data": {
      "text/html": [
       "<table>\n",
       "<thead><tr><th scope=col>x</th><th scope=col>y</th></tr></thead>\n",
       "<tbody>\n",
       "\t<tr><td>1.5</td><td>6  </td></tr>\n",
       "\t<tr><td>2.6</td><td>7  </td></tr>\n",
       "\t<tr><td>8.0</td><td>8  </td></tr>\n",
       "</tbody>\n",
       "</table>\n"
      ],
      "text/latex": [
       "\\begin{tabular}{r|ll}\n",
       " x & y\\\\\n",
       "\\hline\n",
       "\t 1.5 & 6  \\\\\n",
       "\t 2.6 & 7  \\\\\n",
       "\t 8.0 & 8  \\\\\n",
       "\\end{tabular}\n"
      ],
      "text/markdown": [
       "\n",
       "| x | y |\n",
       "|---|---|\n",
       "| 1.5 | 6   |\n",
       "| 2.6 | 7   |\n",
       "| 8.0 | 8   |\n",
       "\n"
      ],
      "text/plain": [
       "  x   y\n",
       "1 1.5 6\n",
       "2 2.6 7\n",
       "3 8.0 8"
      ]
     },
     "metadata": {},
     "output_type": "display_data"
    }
   ],
   "source": [
    "df1=data.frame(x=c(1.5,2.6,8), y=c(6,7,8))\n",
    "df1"
   ]
  },
  {
   "cell_type": "markdown",
   "id": "d904c44e",
   "metadata": {},
   "source": [
    "## documentation files\n",
    "R documentation is a tool that helps you easily find and browse the documentation of almost all R packages on CRAN. It’s a useful reference guide for functions in R code. Let’s go through a few of the most useful functions for working with files. \n",
    "\n",
    "<br><br>\n",
    "we use the <b> dir.create() </b>  function to a new folder , or directory to store our file/.\n",
    "<br>\n",
    "We use the <b> file.create() </b> function to create an blank file.<br>"
   ]
  },
  {
   "cell_type": "code",
   "execution_count": 8,
   "id": "2c4ecaf7",
   "metadata": {},
   "outputs": [
    {
     "data": {
      "text/html": [
       "TRUE"
      ],
      "text/latex": [
       "TRUE"
      ],
      "text/markdown": [
       "TRUE"
      ],
      "text/plain": [
       "[1] TRUE"
      ]
     },
     "metadata": {},
     "output_type": "display_data"
    },
    {
     "data": {
      "text/html": [
       "TRUE"
      ],
      "text/latex": [
       "TRUE"
      ],
      "text/markdown": [
       "TRUE"
      ],
      "text/plain": [
       "[1] TRUE"
      ]
     },
     "metadata": {},
     "output_type": "display_data"
    },
    {
     "data": {
      "text/html": [
       "TRUE"
      ],
      "text/latex": [
       "TRUE"
      ],
      "text/markdown": [
       "TRUE"
      ],
      "text/plain": [
       "[1] TRUE"
      ]
     },
     "metadata": {},
     "output_type": "display_data"
    },
    {
     "data": {
      "text/html": [
       "TRUE"
      ],
      "text/latex": [
       "TRUE"
      ],
      "text/markdown": [
       "TRUE"
      ],
      "text/plain": [
       "[1] TRUE"
      ]
     },
     "metadata": {},
     "output_type": "display_data"
    }
   ],
   "source": [
    "dir.create (\"destination_folder\")\n",
    "\n",
    "file.create (\"new_text_file.txt\") \n",
    "\n",
    "file.create (\"new_word_file.docx\") \n",
    "\n",
    "file.create (\"new_csv_file.csv\") \n",
    "\n",
    "file.copy (\"new_text_file.txt\" , \"destination_folder\")"
   ]
  },
  {
   "cell_type": "markdown",
   "id": "61b09460",
   "metadata": {},
   "source": [
    "## Arrays\n",
    "arrays are very similar to a vector, they just ahev an extra option of dimension added to them that makes them unique.\n",
    "<u> vectors </u> vectors are one dimensional <br>\n",
    "<u> arrays </u> are multidimensional.<br>"
   ]
  },
  {
   "cell_type": "markdown",
   "id": "8c4f08f1",
   "metadata": {},
   "source": [
    "we use the <b> array() </b> function which takes the a vector and dimensions are passed as a list."
   ]
  },
  {
   "cell_type": "code",
   "execution_count": 15,
   "id": "b80ef0d4",
   "metadata": {},
   "outputs": [
    {
     "data": {
      "text/html": [
       "<table>\n",
       "<tbody>\n",
       "\t<tr><td>4</td><td>2</td></tr>\n",
       "\t<tr><td>5</td><td>1</td></tr>\n",
       "</tbody>\n",
       "</table>\n"
      ],
      "text/latex": [
       "\\begin{tabular}{ll}\n",
       "\t 4 & 2\\\\\n",
       "\t 5 & 1\\\\\n",
       "\\end{tabular}\n"
      ],
      "text/markdown": [
       "\n",
       "| 4 | 2 |\n",
       "| 5 | 1 |\n",
       "\n"
      ],
      "text/plain": [
       "     [,1] [,2]\n",
       "[1,] 4    2   \n",
       "[2,] 5    1   "
      ]
     },
     "metadata": {},
     "output_type": "display_data"
    },
    {
     "name": "stdout",
     "output_type": "stream",
     "text": [
      "[1] \"or\"\n"
     ]
    },
    {
     "data": {
      "text/html": [
       "<table>\n",
       "<tbody>\n",
       "\t<tr><td>1</td><td>5</td></tr>\n",
       "\t<tr><td>2</td><td>6</td></tr>\n",
       "\t<tr><td>3</td><td>7</td></tr>\n",
       "\t<tr><td>4</td><td>8</td></tr>\n",
       "</tbody>\n",
       "</table>\n"
      ],
      "text/latex": [
       "\\begin{tabular}{ll}\n",
       "\t 1 & 5\\\\\n",
       "\t 2 & 6\\\\\n",
       "\t 3 & 7\\\\\n",
       "\t 4 & 8\\\\\n",
       "\\end{tabular}\n"
      ],
      "text/markdown": [
       "\n",
       "| 1 | 5 |\n",
       "| 2 | 6 |\n",
       "| 3 | 7 |\n",
       "| 4 | 8 |\n",
       "\n"
      ],
      "text/plain": [
       "     [,1] [,2]\n",
       "[1,] 1    5   \n",
       "[2,] 2    6   \n",
       "[3,] 3    7   \n",
       "[4,] 4    8   "
      ]
     },
     "metadata": {},
     "output_type": "display_data"
    }
   ],
   "source": [
    "x<-array(c(4,5,2,1),c(2,2))\n",
    "x\n",
    "print(\"or\")\n",
    "v1=c(1,2,3,4,5,6,7,8)\n",
    "dim=c(4,2)\n",
    "myarray=array(v1,dim)\n",
    "myarray"
   ]
  },
  {
   "cell_type": "markdown",
   "id": "38001471",
   "metadata": {},
   "source": [
    "## Properties of Arrays\n",
    "Type of elements does our array contain with the typeof() function.<br>\n",
    "The structure of the array with the str() function.<br>\n",
    "Other attributes with the attributes() function.<br>"
   ]
  },
  {
   "cell_type": "markdown",
   "id": "f4a486a5",
   "metadata": {},
   "source": [
    "<BR>\n",
    "    "
   ]
  },
  {
   "cell_type": "markdown",
   "id": "8a6ac3b5",
   "metadata": {},
   "source": [
    "## MATRICES\n",
    "A Matrix is a vector that also contains information on the number of rows and number of columns. However vectors are not matrices. <br>\n",
    "to create a matrix we use <b> matrix() </b> function as shown"
   ]
  },
  {
   "cell_type": "code",
   "execution_count": 19,
   "id": "95b3e9d4",
   "metadata": {},
   "outputs": [
    {
     "data": {
      "text/html": [
       "<table>\n",
       "<tbody>\n",
       "\t<tr><td>1</td><td>2</td></tr>\n",
       "\t<tr><td>3</td><td>4</td></tr>\n",
       "</tbody>\n",
       "</table>\n"
      ],
      "text/latex": [
       "\\begin{tabular}{ll}\n",
       "\t 1 & 2\\\\\n",
       "\t 3 & 4\\\\\n",
       "\\end{tabular}\n"
      ],
      "text/markdown": [
       "\n",
       "| 1 | 2 |\n",
       "| 3 | 4 |\n",
       "\n"
      ],
      "text/plain": [
       "     [,1] [,2]\n",
       "[1,] 1    2   \n",
       "[2,] 3    4   "
      ]
     },
     "metadata": {},
     "output_type": "display_data"
    },
    {
     "name": "stdout",
     "output_type": "stream",
     "text": [
      "[1] \"the byrow=TRUE means the matrix will be filled by the row, it is not the same as if we do not fill it by row\"\n"
     ]
    },
    {
     "data": {
      "text/html": [
       "<table>\n",
       "<tbody>\n",
       "\t<tr><td>1</td><td>3</td></tr>\n",
       "\t<tr><td>2</td><td>4</td></tr>\n",
       "</tbody>\n",
       "</table>\n"
      ],
      "text/latex": [
       "\\begin{tabular}{ll}\n",
       "\t 1 & 3\\\\\n",
       "\t 2 & 4\\\\\n",
       "\\end{tabular}\n"
      ],
      "text/markdown": [
       "\n",
       "| 1 | 3 |\n",
       "| 2 | 4 |\n",
       "\n"
      ],
      "text/plain": [
       "     [,1] [,2]\n",
       "[1,] 1    3   \n",
       "[2,] 2    4   "
      ]
     },
     "metadata": {},
     "output_type": "display_data"
    }
   ],
   "source": [
    "x <- c(1,2,3,4)\n",
    "mat <- matrix(x, nrow=2, ncol=2, byrow=TRUE)\n",
    "mat\n",
    "print(\"the byrow=TRUE means the matrix will be filled by the row, it is not the same as if we do not fill it by row\")\n",
    "\n",
    "mat2 <- matrix(x, nrow=2, ncol=2, byrow=FALSE)\n",
    "mat2"
   ]
  },
  {
   "cell_type": "markdown",
   "id": "efe2aa1f",
   "metadata": {},
   "source": [
    "<b>Matrix Operations</b>\n",
    "<br> multiplication"
   ]
  },
  {
   "cell_type": "code",
   "execution_count": 20,
   "id": "9f94fa76",
   "metadata": {},
   "outputs": [
    {
     "data": {
      "text/html": [
       "<table>\n",
       "<tbody>\n",
       "\t<tr><td>1 </td><td> 6</td></tr>\n",
       "\t<tr><td>6 </td><td>16</td></tr>\n",
       "</tbody>\n",
       "</table>\n"
      ],
      "text/latex": [
       "\\begin{tabular}{ll}\n",
       "\t 1  &  6\\\\\n",
       "\t 6  & 16\\\\\n",
       "\\end{tabular}\n"
      ],
      "text/markdown": [
       "\n",
       "| 1  |  6 |\n",
       "| 6  | 16 |\n",
       "\n"
      ],
      "text/plain": [
       "     [,1] [,2]\n",
       "[1,] 1     6  \n",
       "[2,] 6    16  "
      ]
     },
     "metadata": {},
     "output_type": "display_data"
    }
   ],
   "source": [
    "mat * mat2\n"
   ]
  },
  {
   "cell_type": "markdown",
   "id": "161447de",
   "metadata": {},
   "source": [
    "transpose"
   ]
  },
  {
   "cell_type": "code",
   "execution_count": 21,
   "id": "7736b924",
   "metadata": {},
   "outputs": [
    {
     "data": {
      "text/html": [
       "<table>\n",
       "<tbody>\n",
       "\t<tr><td>1</td><td>3</td></tr>\n",
       "\t<tr><td>2</td><td>4</td></tr>\n",
       "</tbody>\n",
       "</table>\n"
      ],
      "text/latex": [
       "\\begin{tabular}{ll}\n",
       "\t 1 & 3\\\\\n",
       "\t 2 & 4\\\\\n",
       "\\end{tabular}\n"
      ],
      "text/markdown": [
       "\n",
       "| 1 | 3 |\n",
       "| 2 | 4 |\n",
       "\n"
      ],
      "text/plain": [
       "     [,1] [,2]\n",
       "[1,] 1    3   \n",
       "[2,] 2    4   "
      ]
     },
     "metadata": {},
     "output_type": "display_data"
    }
   ],
   "source": [
    "t(mat)\n"
   ]
  }
 ],
 "metadata": {
  "kernelspec": {
   "display_name": "R",
   "language": "R",
   "name": "ir"
  },
  "language_info": {
   "codemirror_mode": "r",
   "file_extension": ".r",
   "mimetype": "text/x-r-source",
   "name": "R",
   "pygments_lexer": "r",
   "version": "3.6.1"
  }
 },
 "nbformat": 4,
 "nbformat_minor": 5
}
