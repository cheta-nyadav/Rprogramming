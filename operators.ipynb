{
 "cells": [
  {
   "cell_type": "markdown",
   "id": "5abcfb07",
   "metadata": {},
   "source": [
    "# operators and calculations\n",
    "<br>\n",
    "Operators can be used for a variety of tasks including calculations, <b> operators </b> are the symbols that names the type of calculation to be performed in the formula.\n",
    "\n",
    "## Assignment operators\n",
    "They are used to assign values to a varibale and vectors.\n",
    "example, the sales variable noe refers to our entire vector."
   ]
  },
  {
   "cell_type": "code",
   "execution_count": 15,
   "id": "4796054b",
   "metadata": {},
   "outputs": [],
   "source": [
    "sales <-c(67.00,75.21,90.00,54.75,25.25)\n",
    "name=\"chetanyadav\""
   ]
  },
  {
   "cell_type": "markdown",
   "id": "9bd5a541",
   "metadata": {},
   "source": [
    "## Arithmetic Calcculations\n",
    "These are used to perform mathematical operations,\n",
    "+,-,*,/, %%,%/%,^"
   ]
  },
  {
   "cell_type": "code",
   "execution_count": 16,
   "id": "fb63ff3d",
   "metadata": {},
   "outputs": [
    {
     "data": {
      "text/html": [
       "9.5"
      ],
      "text/latex": [
       "9.5"
      ],
      "text/markdown": [
       "9.5"
      ],
      "text/plain": [
       "[1] 9.5"
      ]
     },
     "metadata": {},
     "output_type": "display_data"
    },
    {
     "data": {
      "text/html": [
       "3.75"
      ],
      "text/latex": [
       "3.75"
      ],
      "text/markdown": [
       "3.75"
      ],
      "text/plain": [
       "[1] 3.75"
      ]
     },
     "metadata": {},
     "output_type": "display_data"
    },
    {
     "data": {
      "text/html": [
       "1.5"
      ],
      "text/latex": [
       "1.5"
      ],
      "text/markdown": [
       "1.5"
      ],
      "text/plain": [
       "[1] 1.5"
      ]
     },
     "metadata": {},
     "output_type": "display_data"
    },
    {
     "data": {
      "text/html": [
       "3"
      ],
      "text/latex": [
       "3"
      ],
      "text/markdown": [
       "3"
      ],
      "text/plain": [
       "[1] 3"
      ]
     },
     "metadata": {},
     "output_type": "display_data"
    }
   ],
   "source": [
    "a<-7.5\n",
    "b<-2\n",
    "a+b\n",
    "a/b\n",
    "a%%b\n",
    "a%/%b "
   ]
  },
  {
   "cell_type": "markdown",
   "id": "3af62c51",
   "metadata": {},
   "source": [
    "## Relational operators\n",
    "In R, relational operators are used to compare two values or expressions and return a logical value of TRUE or FALSE.\n",
    "<Br> < > == <= >= !="
   ]
  },
  {
   "cell_type": "code",
   "execution_count": 17,
   "id": "3b4b1e81",
   "metadata": {},
   "outputs": [
    {
     "data": {
      "text/html": [
       "FALSE"
      ],
      "text/latex": [
       "FALSE"
      ],
      "text/markdown": [
       "FALSE"
      ],
      "text/plain": [
       "[1] FALSE"
      ]
     },
     "metadata": {},
     "output_type": "display_data"
    },
    {
     "data": {
      "text/html": [
       "TRUE"
      ],
      "text/latex": [
       "TRUE"
      ],
      "text/markdown": [
       "TRUE"
      ],
      "text/plain": [
       "[1] TRUE"
      ]
     },
     "metadata": {},
     "output_type": "display_data"
    },
    {
     "data": {
      "text/html": [
       "FALSE"
      ],
      "text/latex": [
       "FALSE"
      ],
      "text/markdown": [
       "FALSE"
      ],
      "text/plain": [
       "[1] FALSE"
      ]
     },
     "metadata": {},
     "output_type": "display_data"
    },
    {
     "data": {
      "text/html": [
       "TRUE"
      ],
      "text/latex": [
       "TRUE"
      ],
      "text/markdown": [
       "TRUE"
      ],
      "text/plain": [
       "[1] TRUE"
      ]
     },
     "metadata": {},
     "output_type": "display_data"
    }
   ],
   "source": [
    "a<-58\n",
    "b<-29.3\n",
    "a==b\n",
    "a>b\n",
    "a<=b\n",
    "a!=b "
   ]
  },
  {
   "cell_type": "markdown",
   "id": "4c0eab61",
   "metadata": {},
   "source": [
    "## Logical operators\n",
    "n R, logical operators are used to perform logical operations on one or more logical values or expressions. <br>\n",
    "<ul>\n",
    "<li><b>&:</b> the logical AND operator. It returns TRUE if both operands are TRUE, and FALSE otherwise.\n",
    "<li><b>|:</b> the logical OR operator. It returns TRUE if at least one of the operands is TRUE, and FALSE otherwise.\n",
    "<li><b>!:</b> the logical NOT operator. It returns the opposite of the operand. If the operand is TRUE, it returns FALSE, and if the operand is FALSE, it returns TRUE.\n",
    "<li><b>&&:</b> the short-circuit logical AND operator. It returns FALSE if the first operand is FALSE, otherwise it evaluates the second operand.\n",
    "<li><b>||:</b> the short-circuit logical OR operator. It returns TRUE if the first operand is TRUE, otherwise it evaluates the second operand.</ul>"
   ]
  },
  {
   "cell_type": "code",
   "execution_count": 18,
   "id": "b247f496",
   "metadata": {},
   "outputs": [
    {
     "name": "stdout",
     "output_type": "stream",
     "text": [
      "[1]  TRUE FALSE FALSE\n",
      "[1] TRUE\n"
     ]
    },
    {
     "data": {
      "text/html": [
       "<ol class=list-inline>\n",
       "\t<li>TRUE</li>\n",
       "\t<li>TRUE</li>\n",
       "\t<li>TRUE</li>\n",
       "</ol>\n"
      ],
      "text/latex": [
       "\\begin{enumerate*}\n",
       "\\item TRUE\n",
       "\\item TRUE\n",
       "\\item TRUE\n",
       "\\end{enumerate*}\n"
      ],
      "text/markdown": [
       "1. TRUE\n",
       "2. TRUE\n",
       "3. TRUE\n",
       "\n",
       "\n"
      ],
      "text/plain": [
       "[1] TRUE TRUE TRUE"
      ]
     },
     "metadata": {},
     "output_type": "display_data"
    },
    {
     "data": {
      "text/html": [
       "<ol class=list-inline>\n",
       "\t<li>FALSE</li>\n",
       "\t<li>FALSE</li>\n",
       "\t<li>TRUE</li>\n",
       "</ol>\n"
      ],
      "text/latex": [
       "\\begin{enumerate*}\n",
       "\\item FALSE\n",
       "\\item FALSE\n",
       "\\item TRUE\n",
       "\\end{enumerate*}\n"
      ],
      "text/markdown": [
       "1. FALSE\n",
       "2. FALSE\n",
       "3. TRUE\n",
       "\n",
       "\n"
      ],
      "text/plain": [
       "[1] FALSE FALSE  TRUE"
      ]
     },
     "metadata": {},
     "output_type": "display_data"
    }
   ],
   "source": [
    "v<-c(3.5,TRUE,0)\n",
    "g<-c(4.0,FALSE,9)\n",
    "print(v&g)\n",
    "print(v&&g)\n",
    "v|g\n",
    "!v"
   ]
  },
  {
   "cell_type": "code",
   "execution_count": null,
   "id": "0dcddb2f",
   "metadata": {},
   "outputs": [],
   "source": []
  },
  {
   "cell_type": "code",
   "execution_count": null,
   "id": "877727f1",
   "metadata": {},
   "outputs": [],
   "source": []
  },
  {
   "cell_type": "code",
   "execution_count": null,
   "id": "4227d668",
   "metadata": {},
   "outputs": [],
   "source": []
  },
  {
   "cell_type": "code",
   "execution_count": null,
   "id": "c9d01c59",
   "metadata": {},
   "outputs": [],
   "source": []
  },
  {
   "cell_type": "code",
   "execution_count": null,
   "id": "4d4ffac0",
   "metadata": {},
   "outputs": [],
   "source": []
  },
  {
   "cell_type": "code",
   "execution_count": null,
   "id": "14bec96b",
   "metadata": {},
   "outputs": [],
   "source": []
  },
  {
   "cell_type": "code",
   "execution_count": null,
   "id": "4f5e03b4",
   "metadata": {},
   "outputs": [],
   "source": []
  },
  {
   "cell_type": "code",
   "execution_count": null,
   "id": "ed64953a",
   "metadata": {},
   "outputs": [],
   "source": []
  }
 ],
 "metadata": {
  "kernelspec": {
   "display_name": "R",
   "language": "R",
   "name": "ir"
  },
  "language_info": {
   "codemirror_mode": "r",
   "file_extension": ".r",
   "mimetype": "text/x-r-source",
   "name": "R",
   "pygments_lexer": "r",
   "version": "3.6.1"
  }
 },
 "nbformat": 4,
 "nbformat_minor": 5
}
