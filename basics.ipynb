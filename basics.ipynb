{
  "metadata": {
    "language_info": {
      "codemirror_mode": {
        "name": "python",
        "version": 3
      },
      "file_extension": ".py",
      "mimetype": "text/x-python",
      "name": "python",
      "nbconvert_exporter": "python",
      "pygments_lexer": "ipython3",
      "version": "3.8"
    },
    "kernelspec": {
      "name": "python",
      "display_name": "Pyolite",
      "language": "python"
    }
  },
  "nbformat_minor": 4,
  "nbformat": 4,
  "cells": [
    {
      "cell_type": "markdown",
      "source": "# basic concepts of R\n1. functions\n2. variables\n3. data types\n4. vectors\n5. pipes\n",
      "metadata": {}
    },
    {
      "cell_type": "markdown",
      "source": " ## functions\na body of reusable code used for specific tasks. they begin with function names and are followed by parenethesis that take arguments.\nexample",
      "metadata": {}
    },
    {
      "cell_type": "code",
      "source": "print(\"sample function run\")\nsum(4:5)",
      "metadata": {},
      "execution_count": null,
      "outputs": []
    },
    {
      "cell_type": "code",
      "source": "?print()\n?sum(4:5)\n",
      "metadata": {},
      "execution_count": null,
      "outputs": []
    },
    {
      "cell_type": "markdown",
      "source": "<b> functions name are case sensitive </b>",
      "metadata": {}
    },
    {
      "cell_type": "markdown",
      "source": "## variables\na representation of a value in r that can be used to stored for later use.",
      "metadata": {}
    },
    {
      "cell_type": "markdown",
      "source": "<i> a variable name should start with a letter and can contain numbers an d underscore.</i>",
      "metadata": {}
    },
    {
      "cell_type": "code",
      "source": "a<-78\nb<-9.087\nc=\"hello\"\nmyvar=55\nthis_is_var1=25.0014",
      "metadata": {},
      "execution_count": null,
      "outputs": []
    },
    {
      "cell_type": "code",
      "source": "# a comment starts with a #and makes code more readable or understandable",
      "metadata": {},
      "execution_count": null,
      "outputs": []
    },
    {
      "cell_type": "markdown",
      "source": "## Vector\na group off data element of the same type stored in a sequence in R.\n\nIn R it is made by using c(...) and passing values of our vector inside parentheses , which stands for construct.",
      "metadata": {}
    },
    {
      "cell_type": "code",
      "source": "vec_1= c(1,23,4,2,14,56,4,9)\nvec_1 =C(1:10)",
      "metadata": {},
      "execution_count": null,
      "outputs": []
    },
    {
      "cell_type": "markdown",
      "source": "## Pipe\na tool in R for expressing a sequence of multiple operations represented with \"%>%\"\nIt is used to apply the output of one function into another function",
      "metadata": {}
    },
    {
      "cell_type": "code",
      "source": "toothgrowth%>% filter (dose==0.5) %>% arrange(len)",
      "metadata": {},
      "execution_count": null,
      "outputs": []
    }
  ]
}