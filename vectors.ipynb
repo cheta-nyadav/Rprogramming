{
 "cells": [
  {
   "cell_type": "markdown",
   "id": "4ef2f191",
   "metadata": {},
   "source": [
    "## Most common data structures in R are\n",
    "1. Vectors\n",
    "2. Data frames\n",
    "3. Matrices\n",
    "4. Arrays"
   ]
  },
  {
   "cell_type": "markdown",
   "id": "9cb8caca",
   "metadata": {},
   "source": [
    "<b> 1. vectors</b> is a group of data elements of same type, stored in a sequence.\n",
    "<br>\n",
    " It can be of type: Logical,Integer,Double, Character."
   ]
  },
  {
   "cell_type": "code",
   "execution_count": 7,
   "id": "47d5caf3",
   "metadata": {},
   "outputs": [],
   "source": [
    "vec_1<- c(2.3,5.8,6.0,101.4)\n",
    "ab<-c(1L, 5L, 15L)\n",
    "a<-c(\"sara\",\"lisa\",\"chetan\")"
   ]
  },
  {
   "cell_type": "markdown",
   "id": "f6a5d516",
   "metadata": {},
   "source": [
    "## Properties of vectors.\n",
    "Its has two properties: <li> type <li> length <br>\n",
    "    The <b>  type </b> of vector is determined by <b> typeof</b> function."
   ]
  },
  {
   "cell_type": "code",
   "execution_count": 10,
   "id": "9114009f",
   "metadata": {},
   "outputs": [
    {
     "data": {
      "text/html": [
       "'double'"
      ],
      "text/latex": [
       "'double'"
      ],
      "text/markdown": [
       "'double'"
      ],
      "text/plain": [
       "[1] \"double\""
      ]
     },
     "metadata": {},
     "output_type": "display_data"
    },
    {
     "data": {
      "text/html": [
       "'character'"
      ],
      "text/latex": [
       "'character'"
      ],
      "text/markdown": [
       "'character'"
      ],
      "text/plain": [
       "[1] \"character\""
      ]
     },
     "metadata": {},
     "output_type": "display_data"
    },
    {
     "data": {
      "text/html": [
       "'integer'"
      ],
      "text/latex": [
       "'integer'"
      ],
      "text/markdown": [
       "'integer'"
      ],
      "text/plain": [
       "[1] \"integer\""
      ]
     },
     "metadata": {},
     "output_type": "display_data"
    }
   ],
   "source": [
    "typeof(vec_1)\n",
    "typeof(c(\"c\",\"h\",\"e\"))\n",
    "typeof(ab)"
   ]
  },
  {
   "cell_type": "markdown",
   "id": "121ec453",
   "metadata": {},
   "source": [
    "the <b> lenght </b> of a vector is determined by using the <b> lenght()</b> function."
   ]
  },
  {
   "cell_type": "code",
   "execution_count": 11,
   "id": "2dbd2ae5",
   "metadata": {},
   "outputs": [
    {
     "data": {
      "text/html": [
       "4"
      ],
      "text/latex": [
       "4"
      ],
      "text/markdown": [
       "4"
      ],
      "text/plain": [
       "[1] 4"
      ]
     },
     "metadata": {},
     "output_type": "display_data"
    },
    {
     "data": {
      "text/html": [
       "1"
      ],
      "text/latex": [
       "1"
      ],
      "text/markdown": [
       "1"
      ],
      "text/plain": [
       "[1] 1"
      ]
     },
     "metadata": {},
     "output_type": "display_data"
    },
    {
     "data": {
      "text/html": [
       "5"
      ],
      "text/latex": [
       "5"
      ],
      "text/markdown": [
       "5"
      ],
      "text/plain": [
       "[1] 5"
      ]
     },
     "metadata": {},
     "output_type": "display_data"
    }
   ],
   "source": [
    "length(vec_1)\n",
    "length(c)\n",
    "length(c(1,4,5,6,44))"
   ]
  },
  {
   "cell_type": "markdown",
   "id": "538cd4b3",
   "metadata": {},
   "source": [
    "<i> we can also check the type of vector by using checking it, using \n",
    "    <b> is.integer(), is.logical() etc</b></i>"
   ]
  },
  {
   "cell_type": "code",
   "execution_count": 13,
   "id": "84c15d32",
   "metadata": {},
   "outputs": [
    {
     "data": {
      "text/html": [
       "FALSE"
      ],
      "text/latex": [
       "FALSE"
      ],
      "text/markdown": [
       "FALSE"
      ],
      "text/plain": [
       "[1] FALSE"
      ]
     },
     "metadata": {},
     "output_type": "display_data"
    },
    {
     "data": {
      "text/html": [
       "FALSE"
      ],
      "text/latex": [
       "FALSE"
      ],
      "text/markdown": [
       "FALSE"
      ],
      "text/plain": [
       "[1] FALSE"
      ]
     },
     "metadata": {},
     "output_type": "display_data"
    },
    {
     "data": {
      "text/html": [
       "TRUE"
      ],
      "text/latex": [
       "TRUE"
      ],
      "text/markdown": [
       "TRUE"
      ],
      "text/plain": [
       "[1] TRUE"
      ]
     },
     "metadata": {},
     "output_type": "display_data"
    }
   ],
   "source": [
    "is.integer(vec_1)\n",
    "is.character(ab)\n",
    "is.integer(ab)"
   ]
  },
  {
   "cell_type": "markdown",
   "id": "40157ddb",
   "metadata": {},
   "source": [
    "## Naming vectors\n",
    "All types of vectors can be named. Names are useful for writing readable code and describing objects in R. You can name the\n",
    "elements of a vector with the <b>names() </b>function. As an example, let’s assign the variable x to a new vector with three elements."
   ]
  },
  {
   "cell_type": "code",
   "execution_count": 15,
   "id": "b575c359",
   "metadata": {},
   "outputs": [
    {
     "data": {
      "text/html": [
       "<dl class=dl-horizontal>\n",
       "\t<dt>a</dt>\n",
       "\t\t<dd>2.3</dd>\n",
       "\t<dt>b</dt>\n",
       "\t\t<dd>5.8</dd>\n",
       "\t<dt>c</dt>\n",
       "\t\t<dd>6</dd>\n",
       "\t<dt>d</dt>\n",
       "\t\t<dd>101.4</dd>\n",
       "</dl>\n"
      ],
      "text/latex": [
       "\\begin{description*}\n",
       "\\item[a] 2.3\n",
       "\\item[b] 5.8\n",
       "\\item[c] 6\n",
       "\\item[d] 101.4\n",
       "\\end{description*}\n"
      ],
      "text/markdown": [
       "a\n",
       ":   2.3b\n",
       ":   5.8c\n",
       ":   6d\n",
       ":   101.4\n",
       "\n"
      ],
      "text/plain": [
       "    a     b     c     d \n",
       "  2.3   5.8   6.0 101.4 "
      ]
     },
     "metadata": {},
     "output_type": "display_data"
    }
   ],
   "source": [
    "names(vec_1)<-c(\"a\",\"b\",\"c\",\"d\")\n",
    "vec_1"
   ]
  },
  {
   "cell_type": "markdown",
   "id": "971ce67d",
   "metadata": {},
   "source": [
    "## 2. Lists\n",
    "Lists are different from atomic vectors because their elements can be of any type—like dates, data frames, vectors, matrices, and\n",
    "more. Lists can even contain other lists.\n",
    " they are made using the list() function\n"
   ]
  },
  {
   "cell_type": "code",
   "execution_count": 19,
   "id": "4acbfa9a",
   "metadata": {},
   "outputs": [
    {
     "data": {
      "text/html": [
       "<ol>\n",
       "\t<li><ol>\n",
       "\t<li><ol>\n",
       "\t<li>1</li>\n",
       "\t<li>4</li>\n",
       "\t<li>5</li>\n",
       "</ol>\n",
       "</li>\n",
       "\t<li>6</li>\n",
       "</ol>\n",
       "</li>\n",
       "\t<li>7</li>\n",
       "</ol>\n"
      ],
      "text/latex": [
       "\\begin{enumerate}\n",
       "\\item \\begin{enumerate}\n",
       "\\item \\begin{enumerate}\n",
       "\\item 1\n",
       "\\item 4\n",
       "\\item 5\n",
       "\\end{enumerate}\n",
       "\n",
       "\\item 6\n",
       "\\end{enumerate}\n",
       "\n",
       "\\item 7\n",
       "\\end{enumerate}\n"
      ],
      "text/markdown": [
       "1. 1. 1. 1\n",
       "2. 4\n",
       "3. 5\n",
       "\n",
       "\n",
       "\n",
       "2. 6\n",
       "\n",
       "\n",
       "\n",
       "2. 7\n",
       "\n",
       "\n"
      ],
      "text/plain": [
       "[[1]]\n",
       "[[1]][[1]]\n",
       "[[1]][[1]][[1]]\n",
       "[1] 1\n",
       "\n",
       "[[1]][[1]][[2]]\n",
       "[1] 4\n",
       "\n",
       "[[1]][[1]][[3]]\n",
       "[1] 5\n",
       "\n",
       "\n",
       "[[1]][[2]]\n",
       "[1] 6\n",
       "\n",
       "\n",
       "[[2]]\n",
       "[1] 7\n"
      ]
     },
     "metadata": {},
     "output_type": "display_data"
    }
   ],
   "source": [
    "l1=list(\"hello\",3,1L, 4.09, TRUE)\n",
    "nestedlist=list(list(list(1,4,5)))\n",
    "nestedlist2=list(list(list(1,4,5),6),7)"
   ]
  },
  {
   "cell_type": "markdown",
   "id": "5e99b5a8",
   "metadata": {},
   "source": [
    "<b> str() </b> gives the detailed structure of the list"
   ]
  },
  {
   "cell_type": "code",
   "execution_count": 20,
   "id": "d992d408",
   "metadata": {
    "scrolled": true
   },
   "outputs": [
    {
     "name": "stdout",
     "output_type": "stream",
     "text": [
      "List of 5\n",
      " $ : chr \"hello\"\n",
      " $ : num 3\n",
      " $ : int 1\n",
      " $ : num 4.09\n",
      " $ : logi TRUE\n"
     ]
    }
   ],
   "source": [
    "str(l1)"
   ]
  },
  {
   "cell_type": "code",
   "execution_count": 22,
   "id": "a1a034d0",
   "metadata": {
    "scrolled": true
   },
   "outputs": [
    {
     "name": "stdout",
     "output_type": "stream",
     "text": [
      "List of 4\n",
      " $ : chr \"a\"\n",
      " $ : chr \"b\"\n",
      " $ :List of 2\n",
      "  ..$ : chr \"c\"\n",
      "  ..$ : chr \"d\"\n",
      " $ :List of 2\n",
      "  ..$ : chr \"e\"\n",
      "  ..$ : chr \"f\"\n"
     ]
    }
   ],
   "source": [
    "str(list(\"a\",\"b\",list(\"c\",\"d\"),list(\"e\",\"f\")))"
   ]
  }
 ],
 "metadata": {
  "kernelspec": {
   "display_name": "R",
   "language": "R",
   "name": "ir"
  },
  "language_info": {
   "codemirror_mode": "r",
   "file_extension": ".r",
   "mimetype": "text/x-r-source",
   "name": "R",
   "pygments_lexer": "r",
   "version": "3.6.1"
  }
 },
 "nbformat": 4,
 "nbformat_minor": 5
}
